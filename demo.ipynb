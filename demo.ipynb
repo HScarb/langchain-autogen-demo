{
 "cells": [
  {
   "cell_type": "code",
   "execution_count": 37,
   "outputs": [],
   "source": [
    "import autogen\n",
    "\n",
    "config_list = autogen.config_list_from_json(\"OAI_CONFIG_LIST\", filter_dict={\"model\": [\"gpt-4\"]})"
   ],
   "metadata": {
    "collapsed": false,
    "ExecuteTime": {
     "start_time": "2023-11-06T01:13:11.075493Z",
     "end_time": "2023-11-06T01:13:11.079499Z"
    }
   }
  },
  {
   "cell_type": "code",
   "execution_count": 38,
   "outputs": [],
   "source": [
    "gpt4_api_key = config_list[0][\"api_key\"]\n"
   ],
   "metadata": {
    "collapsed": false,
    "ExecuteTime": {
     "start_time": "2023-11-06T01:13:11.462854Z",
     "end_time": "2023-11-06T01:13:11.465859Z"
    }
   }
  },
  {
   "cell_type": "code",
   "execution_count": 39,
   "outputs": [],
   "source": [
    "import os\n",
    "os.environ['OPENAI_API_KEY'] = gpt4_api_key"
   ],
   "metadata": {
    "collapsed": false,
    "ExecuteTime": {
     "start_time": "2023-11-06T01:13:11.846509Z",
     "end_time": "2023-11-06T01:13:11.850514Z"
    }
   }
  },
  {
   "cell_type": "code",
   "execution_count": 40,
   "outputs": [],
   "source": [
    "from langchain.vectorstores import Chroma\n",
    "from langchain.embeddings import OpenAIEmbeddings\n",
    "from langchain.text_splitter import RecursiveCharacterTextSplitter\n",
    "from langchain.document_loaders import PyPDFLoader\n",
    "from langchain.memory import ConversationBufferMemory\n",
    "from langchain.llms import OpenAI\n",
    "from langchain.chains import ConversationalRetrievalChain"
   ],
   "metadata": {
    "collapsed": false,
    "ExecuteTime": {
     "start_time": "2023-11-06T01:13:12.297153Z",
     "end_time": "2023-11-06T01:13:12.298157Z"
    }
   }
  },
  {
   "cell_type": "markdown",
   "source": [
    "## Steps\n",
    "### 1. Build up a vector store with whitepaper."
   ],
   "metadata": {
    "collapsed": false
   }
  },
  {
   "cell_type": "code",
   "execution_count": 41,
   "outputs": [],
   "source": [
    "loaders = [ PyPDFLoader('./Raft.pdf') ]\n",
    "docs = []\n",
    "for l in loaders:\n",
    "    docs.extend(l.load())\n",
    "text_splitter = RecursiveCharacterTextSplitter(chunk_size=1000)\n",
    "docs = text_splitter.split_documents(docs)"
   ],
   "metadata": {
    "collapsed": false,
    "ExecuteTime": {
     "start_time": "2023-11-06T01:13:13.267826Z",
     "end_time": "2023-11-06T01:13:16.274956Z"
    }
   }
  },
  {
   "cell_type": "code",
   "execution_count": 42,
   "outputs": [
    {
     "data": {
      "text/plain": "['9be9e0ac-7bfe-11ee-95ff-841b77a742ba',\n '9be9e0ad-7bfe-11ee-9868-841b77a742ba',\n '9be9e0ae-7bfe-11ee-91d6-841b77a742ba',\n '9be9e0af-7bfe-11ee-8864-841b77a742ba',\n '9be9e0b0-7bfe-11ee-81bd-841b77a742ba',\n '9be9e0b1-7bfe-11ee-97ba-841b77a742ba',\n '9be9e0b2-7bfe-11ee-8b0b-841b77a742ba',\n '9be9e0b3-7bfe-11ee-bb4e-841b77a742ba',\n '9be9e0b4-7bfe-11ee-b5e5-841b77a742ba',\n '9be9e0b5-7bfe-11ee-9947-841b77a742ba',\n '9be9e0b6-7bfe-11ee-8b79-841b77a742ba',\n '9be9e0b7-7bfe-11ee-8528-841b77a742ba',\n '9be9e0b8-7bfe-11ee-b721-841b77a742ba',\n '9be9e0b9-7bfe-11ee-928c-841b77a742ba',\n '9be9e0ba-7bfe-11ee-bb65-841b77a742ba',\n '9be9e0bb-7bfe-11ee-aa79-841b77a742ba',\n '9be9e0bc-7bfe-11ee-bc02-841b77a742ba',\n '9be9e0bd-7bfe-11ee-885d-841b77a742ba',\n '9be9e0be-7bfe-11ee-8d05-841b77a742ba',\n '9be9e0bf-7bfe-11ee-8265-841b77a742ba',\n '9be9e0c0-7bfe-11ee-9524-841b77a742ba',\n '9be9e0c1-7bfe-11ee-acf9-841b77a742ba',\n '9be9e0c2-7bfe-11ee-802a-841b77a742ba',\n '9be9e0c3-7bfe-11ee-bc89-841b77a742ba',\n '9be9e0c4-7bfe-11ee-861c-841b77a742ba',\n '9be9e0c5-7bfe-11ee-a6a3-841b77a742ba',\n '9be9e0c6-7bfe-11ee-896f-841b77a742ba',\n '9be9e0c7-7bfe-11ee-abf1-841b77a742ba',\n '9be9e0c8-7bfe-11ee-94f5-841b77a742ba',\n '9be9e0c9-7bfe-11ee-b12b-841b77a742ba',\n '9be9e0ca-7bfe-11ee-8867-841b77a742ba',\n '9be9e0cb-7bfe-11ee-be95-841b77a742ba']"
     },
     "execution_count": 42,
     "metadata": {},
     "output_type": "execute_result"
    }
   ],
   "source": [
    "vectorstore = Chroma(\n",
    "    collection_name=\"full_documents\",\n",
    "    embedding_function=OpenAIEmbeddings()\n",
    ")\n",
    "vectorstore.add_documents(docs)"
   ],
   "metadata": {
    "collapsed": false,
    "ExecuteTime": {
     "start_time": "2023-11-06T01:13:16.274956Z",
     "end_time": "2023-11-06T01:13:17.608495Z"
    }
   }
  },
  {
   "cell_type": "markdown",
   "source": [
    "### 2. Set up a conversational retrieval QA chain by LangChain, based on the vector store."
   ],
   "metadata": {
    "collapsed": false
   }
  },
  {
   "cell_type": "code",
   "execution_count": 43,
   "outputs": [],
   "source": [
    "qa = ConversationalRetrievalChain.from_llm(\n",
    "    OpenAI(temperature=0),\n",
    "    vectorstore.as_retriever(),\n",
    "    memory=ConversationBufferMemory(memory_key=\"chat_history\", return_messages=True)\n",
    ")"
   ],
   "metadata": {
    "collapsed": false,
    "ExecuteTime": {
     "start_time": "2023-11-06T01:13:21.928470Z",
     "end_time": "2023-11-06T01:13:21.942484Z"
    }
   }
  },
  {
   "cell_type": "code",
   "execution_count": 44,
   "outputs": [],
   "source": [
    "result = qa(({\"question\": \"What is Raft?\"}))"
   ],
   "metadata": {
    "collapsed": false,
    "ExecuteTime": {
     "start_time": "2023-11-06T01:13:22.496728Z",
     "end_time": "2023-11-06T01:13:24.771642Z"
    }
   }
  },
  {
   "cell_type": "code",
   "execution_count": 45,
   "outputs": [
    {
     "data": {
      "text/plain": "' Raft is a consensus algorithm for replicated state machines that uses a replicated log and leader election to maintain the log and ensure consensus. It is specified in TLA+ and can be implemented and used by developers. The state space is large and abstract.'"
     },
     "execution_count": 45,
     "metadata": {},
     "output_type": "execute_result"
    }
   ],
   "source": [
    "result['answer']"
   ],
   "metadata": {
    "collapsed": false,
    "ExecuteTime": {
     "start_time": "2023-11-06T01:13:24.771642Z",
     "end_time": "2023-11-06T01:13:24.775177Z"
    }
   }
  },
  {
   "cell_type": "markdown",
   "source": [
    "### 3. Define a function answer_raft_question\n",
    "\n",
    "It takes a parameter question, calls the QA chain, and answer it by returning the answer from the chain response.\n"
   ],
   "metadata": {
    "collapsed": false
   }
  },
  {
   "cell_type": "code",
   "execution_count": 46,
   "outputs": [],
   "source": [
    "def answer_raft_question(question):\n",
    "    response = qa({\"question\": question})\n",
    "    return response[\"answer\"]"
   ],
   "metadata": {
    "collapsed": false,
    "ExecuteTime": {
     "start_time": "2023-11-06T01:13:27.921038Z",
     "end_time": "2023-11-06T01:13:27.925910Z"
    }
   }
  },
  {
   "cell_type": "markdown",
   "source": [
    "### 4. Set up AutoGen user agent and assistant agent with function calling enabled."
   ],
   "metadata": {
    "collapsed": false
   }
  },
  {
   "cell_type": "code",
   "execution_count": 47,
   "outputs": [],
   "source": [
    "llm_config={\n",
    "    \"request_timeout\": 600,\n",
    "    \"seed\": 42,\n",
    "    \"config_list\": config_list,\n",
    "    \"temperature\": 0,\n",
    "    \"functions\": [\n",
    "        {\n",
    "            \"name\": \"answer_raft_question\",\n",
    "            \"description\": \"Answer any Raft related questions\",\n",
    "            \"parameters\": {\n",
    "                \"type\": \"object\",\n",
    "                \"properties\": {\n",
    "                    \"question\": {\n",
    "                        \"type\": \"string\",\n",
    "                        \"description\": \"The question to ask in relation to Raft protocol\",\n",
    "                    }\n",
    "                },\n",
    "                \"required\": [\"question\"],\n",
    "            },\n",
    "        }\n",
    "    ],\n",
    "}"
   ],
   "metadata": {
    "collapsed": false,
    "ExecuteTime": {
     "start_time": "2023-11-06T01:13:29.206073Z",
     "end_time": "2023-11-06T01:13:29.210079Z"
    }
   }
  },
  {
   "cell_type": "code",
   "execution_count": 48,
   "outputs": [],
   "source": [
    "# create an AssistantAgent instance named \"assistant\"\n",
    "assistant = autogen.AssistantAgent(\n",
    "    name=\"assistant\",\n",
    "    llm_config=llm_config,\n",
    ")\n",
    "# create a UserProxyAgent instance named \"user_proxy\"\n",
    "user_proxy = autogen.UserProxyAgent(\n",
    "    name=\"user_proxy\",\n",
    "    human_input_mode=\"NEVER\",\n",
    "    max_consecutive_auto_reply=10,\n",
    "    code_execution_config={\"work_dir\": \".\"},\n",
    "    llm_config=llm_config,\n",
    "    system_message=\"\"\"Reply TERMINATE if the task has been solved at full satisfaction.\n",
    "Otherwise, reply CONTINUE, or the reason why the task is not solved yet.\"\"\",\n",
    "    function_map={\"answer_raft_question\": answer_raft_question}\n",
    ")"
   ],
   "metadata": {
    "collapsed": false,
    "ExecuteTime": {
     "start_time": "2023-11-06T01:13:30.932391Z",
     "end_time": "2023-11-06T01:13:30.937511Z"
    }
   }
  },
  {
   "cell_type": "markdown",
   "source": [
    "### It's time to start a task for the agents.\n",
    "\n",
    "Now, let's user the user agent to ask the agents to write an introduction blog for Raft.\n"
   ],
   "metadata": {
    "collapsed": false
   }
  },
  {
   "cell_type": "code",
   "execution_count": 49,
   "outputs": [
    {
     "name": "stdout",
     "output_type": "stream",
     "text": [
      "\u001B[33muser_proxy\u001B[0m (to assistant):\n",
      "\n",
      "\n",
      "I'm writing a blog to introduce the Raft. Find the answers to the 3 questions below and write an introduction based on them.\n",
      "\n",
      "1. What is Raft?\n",
      "2. What are the main differences between Raft and Paxos?\n",
      "3. How to use Raft?\n",
      "\n",
      "Start the work now.\n",
      "\n",
      "\n",
      "--------------------------------------------------------------------------------\n",
      "\u001B[33massistant\u001B[0m (to user_proxy):\n",
      "\n",
      "\u001B[32m***** Suggested function Call: answer_raft_question *****\u001B[0m\n",
      "Arguments: \n",
      "\n",
      "{\n",
      "  \"question\": \"What is Raft?\"\n",
      "}\n",
      "\u001B[32m*********************************************************\u001B[0m\n",
      "\n",
      "--------------------------------------------------------------------------------\n",
      "\u001B[35m\n",
      ">>>>>>>> EXECUTING FUNCTION answer_raft_question...\u001B[0m\n",
      "\u001B[33muser_proxy\u001B[0m (to assistant):\n",
      "\n",
      "\u001B[32m***** Response from calling function \"answer_raft_question\" *****\u001B[0m\n",
      " Raft is a consensus algorithm used for replicated state machines that ensures all nodes in the cluster agree on the same sequence of state transitions. It uses a replicated log to maintain the state of the system and a leader election process to ensure that only one node is making decisions at a time. It also uses TLA+ specifications to ensure that the implementation is close to the developer's usage and that the state space is large.\n",
      "\u001B[32m*****************************************************************\u001B[0m\n",
      "\n",
      "--------------------------------------------------------------------------------\n",
      "\u001B[33massistant\u001B[0m (to user_proxy):\n",
      "\n",
      "\u001B[32m***** Suggested function Call: answer_raft_question *****\u001B[0m\n",
      "Arguments: \n",
      "\n",
      "{\n",
      "  \"question\": \"What are the main differences between Raft and Paxos?\"\n",
      "}\n",
      "\u001B[32m*********************************************************\u001B[0m\n",
      "\n",
      "--------------------------------------------------------------------------------\n",
      "\u001B[35m\n",
      ">>>>>>>> EXECUTING FUNCTION answer_raft_question...\u001B[0m\n",
      "\u001B[33muser_proxy\u001B[0m (to assistant):\n",
      "\n",
      "\u001B[32m***** Response from calling function \"answer_raft_question\" *****\u001B[0m\n",
      " Raft is a consensus algorithm that uses a replicated log for replicated state machine, while Paxos is a consensus algorithm that uses a leader election key and optional forms of operation. Raft has a larger state space than Paxos, and TLA+ specifications for Raft are closer to the developer's implementation and usage, while TLA+ specifications for Paxos are more abstract.\n",
      "\u001B[32m*****************************************************************\u001B[0m\n",
      "\n",
      "--------------------------------------------------------------------------------\n",
      "\u001B[33massistant\u001B[0m (to user_proxy):\n",
      "\n",
      "\u001B[32m***** Suggested function Call: answer_raft_question *****\u001B[0m\n",
      "Arguments: \n",
      "\n",
      "{\n",
      "  \"question\": \"How to use Raft?\"\n",
      "}\n",
      "\u001B[32m*********************************************************\u001B[0m\n",
      "\n",
      "--------------------------------------------------------------------------------\n",
      "\u001B[35m\n",
      ">>>>>>>> EXECUTING FUNCTION answer_raft_question...\u001B[0m\n",
      "\u001B[33muser_proxy\u001B[0m (to assistant):\n",
      "\n",
      "\u001B[32m***** Response from calling function \"answer_raft_question\" *****\u001B[0m\n",
      " Raft can be implemented and used by developers through the TLA+ Spec, which is close to the developer's implementation and usage and is more abstract.\n",
      "\u001B[32m*****************************************************************\u001B[0m\n",
      "\n",
      "--------------------------------------------------------------------------------\n",
      "\u001B[33massistant\u001B[0m (to user_proxy):\n",
      "\n",
      "Based on the answers to your questions, here is a draft introduction for your blog:\n",
      "\n",
      "\"Raft is a consensus algorithm designed for managing replicated state machines. It ensures that all nodes in a cluster agree on the same sequence of state transitions. This is achieved through a replicated log that maintains the state of the system and a leader election process that ensures only one node is making decisions at a time. \n",
      "\n",
      "Raft differs from Paxos, another consensus algorithm, in several ways. While both use a leader election key and optional forms of operation, Raft has a larger state space and its TLA+ specifications are closer to the developer's implementation and usage. On the other hand, Paxos's TLA+ specifications are more abstract.\n",
      "\n",
      "To use Raft, developers can implement it through the TLA+ Spec. This specification is close to the developer's implementation and usage, making it more abstract and easier to use.\"\n",
      "\n",
      "TERMINATE\n",
      "\n",
      "--------------------------------------------------------------------------------\n",
      "\u001B[33muser_proxy\u001B[0m (to assistant):\n",
      "\n",
      "TERMINATE\n",
      "\n",
      "--------------------------------------------------------------------------------\n"
     ]
    }
   ],
   "source": [
    "# the assistant receives a message from the user, which contains the task description\n",
    "user_proxy.initiate_chat(\n",
    "    assistant,\n",
    "    message=\"\"\"\n",
    "I'm writing a blog to introduce the Raft. Find the answers to the 3 questions below and write an introduction based on them.\n",
    "\n",
    "1. What is Raft?\n",
    "2. What are the main differences between Raft and Paxos?\n",
    "3. How to use Raft?\n",
    "\n",
    "Start the work now.\n",
    "\"\"\"\n",
    ")\n"
   ],
   "metadata": {
    "collapsed": false,
    "ExecuteTime": {
     "start_time": "2023-11-06T01:13:33.679888Z",
     "end_time": "2023-11-06T01:14:02.627718Z"
    }
   }
  },
  {
   "cell_type": "code",
   "execution_count": null,
   "outputs": [],
   "source": [],
   "metadata": {
    "collapsed": false
   }
  }
 ],
 "metadata": {
  "kernelspec": {
   "display_name": "Python 3",
   "language": "python",
   "name": "python3"
  },
  "language_info": {
   "codemirror_mode": {
    "name": "ipython",
    "version": 2
   },
   "file_extension": ".py",
   "mimetype": "text/x-python",
   "name": "python",
   "nbconvert_exporter": "python",
   "pygments_lexer": "ipython2",
   "version": "2.7.6"
  }
 },
 "nbformat": 4,
 "nbformat_minor": 0
}
